{
 "cells": [
  {
   "cell_type": "code",
   "execution_count": 1,
   "id": "67959f39-cb9e-4e28-a812-96a97c2e2588",
   "metadata": {},
   "outputs": [],
   "source": [
    "# Create and refresh the game board\n",
    "from IPython.display import clear_output\n",
    "def display_board(board):\n",
    "    clear_output()\n",
    "    print(board[1] + '|' + board[2] + '|' + board[3])\n",
    "    print('------')\n",
    "    print(board[4] + '|' + board[5] + '|' + board[6])\n",
    "    print('------')\n",
    "    print(board[7] + '|' + board[8] + '|' + board[9])\n",
    "    "
   ]
  },
  {
   "cell_type": "code",
   "execution_count": 2,
   "id": "b6cbadf3-5dbd-46f7-bc13-be9ea011c88a",
   "metadata": {},
   "outputs": [],
   "source": [
    "# Ask for player input\n",
    "def player_input():\n",
    "    choice = 'wrong'\n",
    "# The while loop keeps asking until the input is valid ('X' or 'O')\n",
    "    while choice not in ['X', 'O']:\n",
    "        choice = input('Please choose either X or O: ').upper()\n",
    "        if choice not in ['X', 'O']:\n",
    "            print('Sorry, please choose either X or O.')\n",
    "    # Once it is valid, the loop ends, and the second if statement (outside the loop) returns a tuple of player markers\n",
    "    if choice == 'X':\n",
    "        return('X', 'O')\n",
    "    else:\n",
    "        return('O', 'X')\n",
    "            "
   ]
  },
  {
   "cell_type": "code",
   "execution_count": 3,
   "id": "ae93aee4-1882-4e9a-95f4-36eb8477d170",
   "metadata": {},
   "outputs": [],
   "source": [
    "# Place marker on the board\n",
    "def choose_marker_position(board):\n",
    "    position = 'wrong'\n",
    "    while position not in ['1', '2', '3', '4', '5', '6', '7', '8', '9']:\n",
    "        position = input('Enter a number between 1 and 9: ')\n",
    "        if position not in ['1', '2', '3', '4', '5', '6', '7', '8', '9']:\n",
    "            print('Sorry, please enter a number between 1 and 9.')\n",
    "        \n",
    "    return int(position)"
   ]
  },
  {
   "cell_type": "code",
   "execution_count": 4,
   "id": "aeafafe3-dd40-4a4e-8384-bc33bc063b25",
   "metadata": {},
   "outputs": [],
   "source": [
    "# Validating the player's desired position before placing it\n",
    "def position_marker(board, player_position, marker):\n",
    "    if board[player_position] != \" \":\n",
    "        print('Sorry, you can only add a marker in an empty position!')\n",
    "        # The return stops the code before overwriting the marker\n",
    "        return False\n",
    "    board[player_position] = marker\n",
    "    return True"
   ]
  },
  {
   "cell_type": "code",
   "execution_count": 5,
   "id": "18286fc4-b9d4-4ad4-85d6-f9f688b64451",
   "metadata": {},
   "outputs": [],
   "source": [
    "# check for a win, loss, or draw\n",
    "def check_win_loss_tie(marker, board):\n",
    "    if board[1] == board[2] == board[3] == marker:\n",
    "        return False\n",
    "    elif board[4] == board[5] == board[6] == marker:\n",
    "        return False\n",
    "    elif board[7] == board[8] == board[9] == marker:\n",
    "        return False\n",
    "    elif board[1] == board[4] == board[7] == marker:\n",
    "        return False\n",
    "    elif board[2] == board[5] == board[8] == marker:\n",
    "        return False\n",
    "    elif board[3] == board[6] == board[9] == marker:\n",
    "        return False\n",
    "    elif board[1] == board[5] == board[9] == marker:\n",
    "        return False\n",
    "    elif board[3] == board[5] == board[7] == marker:\n",
    "        return False\n",
    "    elif \" \" not in board[1:]:\n",
    "        print('It is a tie!')\n",
    "        return False\n",
    "    else:\n",
    "        return True"
   ]
  },
  {
   "cell_type": "code",
   "execution_count": 6,
   "id": "6556b799-58ca-480e-855c-3beae36e43b0",
   "metadata": {},
   "outputs": [
    {
     "name": "stdout",
     "output_type": "stream",
     "text": [
      "X|O|O\n",
      "------\n",
      "X|O|X\n",
      "------\n",
      "X| | \n",
      "Player 1 wins!\n"
     ]
    }
   ],
   "source": [
    "# Gameplay\n",
    "player1_marker, player2_marker = player_input()\n",
    "game_board = [\" \"] * 10\n",
    "game_on = True\n",
    "\n",
    "current_player = 'Player 1'\n",
    "current_marker = player1_marker\n",
    "\n",
    "while game_on:\n",
    "    # display the game board\n",
    "    display_board(game_board)\n",
    "    # print whose turn it is\n",
    "    print(f'{current_player}, you are up!')\n",
    "    # allow the current player to choose their position\n",
    "    player_position = choose_marker_position(game_board)\n",
    "    position_marker(game_board, player_position, current_marker)\n",
    "    # check whether anyone has won, lost or if there's a tie\n",
    "    game_on = check_win_loss_tie(current_marker, game_board)\n",
    "\n",
    "    if \" \" not in game_board[1:]:\n",
    "        display_board(game_board)\n",
    "        print(f'Game over! It is a tie!')\n",
    "    elif not game_on:\n",
    "        display_board(game_board)\n",
    "        print(f'{current_player} wins!')\n",
    "\n",
    "    # Change the player\n",
    "    if current_player == 'Player 1':\n",
    "        current_player = 'Player 2'\n",
    "        current_marker = player2_marker\n",
    "    else:\n",
    "        current_player = 'Player 1'\n",
    "        current_marker = player1_marker"
   ]
  }
 ],
 "metadata": {
  "kernelspec": {
   "display_name": "Python 3",
   "language": "python",
   "name": "python3"
  },
  "language_info": {
   "codemirror_mode": {
    "name": "ipython",
    "version": 3
   },
   "file_extension": ".py",
   "mimetype": "text/x-python",
   "name": "python",
   "nbconvert_exporter": "python",
   "pygments_lexer": "ipython3",
   "version": "3.12.1"
  }
 },
 "nbformat": 4,
 "nbformat_minor": 5
}
